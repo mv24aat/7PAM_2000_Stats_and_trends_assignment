{
 "cells": [
  {
   "cell_type": "code",
   "execution_count": 8,
   "id": "b8ac01f4-145b-4176-8e02-8f0c15836ee3",
   "metadata": {
    "scrolled": true
   },
   "outputs": [
    {
     "name": "stdout",
     "output_type": "stream",
     "text": [
      "              country_code  gold  silver  bronze  total       gdp  gdp_year  \\\n",
      "country                                                                       \n",
      "United States          USA    40      44      42    126  81695.19      2023   \n",
      "China                  CHN    40      27      24     91  12614.06      2023   \n",
      "Japan                  JPN    20      12      13     45  33834.39      2023   \n",
      "Australia              AUS    18      19      16     53  64711.77      2023   \n",
      "France                 FRA    16      26      22     64  44460.82      2023   \n",
      "...                    ...   ...     ...     ...    ...       ...       ...   \n",
      "Peru                   PER     0       0       1      1   7789.87      2023   \n",
      "Qatar                  QAT     0       0       1      1  87480.42      2022   \n",
      "Singapore              SGP     0       0       1      1  84734.26      2023   \n",
      "Slovakia               SVK     0       0       1      1  24470.24      2023   \n",
      "Zambia                 ZMB     0       0       1      1   1369.13      2023   \n",
      "\n",
      "               population  \n",
      "country                    \n",
      "United States       334.9  \n",
      "China              1410.7  \n",
      "Japan               124.5  \n",
      "Australia            26.6  \n",
      "France               68.2  \n",
      "...                   ...  \n",
      "Peru                 34.4  \n",
      "Qatar                 2.7  \n",
      "Singapore             5.9  \n",
      "Slovakia              5.4  \n",
      "Zambia               20.6  \n",
      "\n",
      "[90 rows x 8 columns]\n"
     ]
    }
   ],
   "source": [
    "import numpy as np\n",
    "import matplotlib.pyplot as plt\n",
    "import pandas as pd\n",
    "df = pd.read_csv('olympics-economics.csv', index_col = 'country')\n",
    "print(df)"
   ]
  },
  {
   "cell_type": "code",
   "execution_count": 10,
   "id": "951259a9-162d-4df5-a28b-85e18fbb7a06",
   "metadata": {},
   "outputs": [
    {
     "data": {
      "text/html": [
       "<div>\n",
       "<style scoped>\n",
       "    .dataframe tbody tr th:only-of-type {\n",
       "        vertical-align: middle;\n",
       "    }\n",
       "\n",
       "    .dataframe tbody tr th {\n",
       "        vertical-align: top;\n",
       "    }\n",
       "\n",
       "    .dataframe thead th {\n",
       "        text-align: right;\n",
       "    }\n",
       "</style>\n",
       "<table border=\"1\" class=\"dataframe\">\n",
       "  <thead>\n",
       "    <tr style=\"text-align: right;\">\n",
       "      <th></th>\n",
       "      <th>country_code</th>\n",
       "      <th>gold</th>\n",
       "      <th>silver</th>\n",
       "      <th>bronze</th>\n",
       "      <th>total</th>\n",
       "      <th>gdp</th>\n",
       "      <th>gdp_year</th>\n",
       "      <th>population</th>\n",
       "    </tr>\n",
       "    <tr>\n",
       "      <th>country</th>\n",
       "      <th></th>\n",
       "      <th></th>\n",
       "      <th></th>\n",
       "      <th></th>\n",
       "      <th></th>\n",
       "      <th></th>\n",
       "      <th></th>\n",
       "      <th></th>\n",
       "    </tr>\n",
       "  </thead>\n",
       "  <tbody>\n",
       "    <tr>\n",
       "      <th>United States</th>\n",
       "      <td>USA</td>\n",
       "      <td>40</td>\n",
       "      <td>44</td>\n",
       "      <td>42</td>\n",
       "      <td>126</td>\n",
       "      <td>81695.19</td>\n",
       "      <td>2023</td>\n",
       "      <td>334.9</td>\n",
       "    </tr>\n",
       "    <tr>\n",
       "      <th>China</th>\n",
       "      <td>CHN</td>\n",
       "      <td>40</td>\n",
       "      <td>27</td>\n",
       "      <td>24</td>\n",
       "      <td>91</td>\n",
       "      <td>12614.06</td>\n",
       "      <td>2023</td>\n",
       "      <td>1410.7</td>\n",
       "    </tr>\n",
       "    <tr>\n",
       "      <th>Japan</th>\n",
       "      <td>JPN</td>\n",
       "      <td>20</td>\n",
       "      <td>12</td>\n",
       "      <td>13</td>\n",
       "      <td>45</td>\n",
       "      <td>33834.39</td>\n",
       "      <td>2023</td>\n",
       "      <td>124.5</td>\n",
       "    </tr>\n",
       "    <tr>\n",
       "      <th>Australia</th>\n",
       "      <td>AUS</td>\n",
       "      <td>18</td>\n",
       "      <td>19</td>\n",
       "      <td>16</td>\n",
       "      <td>53</td>\n",
       "      <td>64711.77</td>\n",
       "      <td>2023</td>\n",
       "      <td>26.6</td>\n",
       "    </tr>\n",
       "    <tr>\n",
       "      <th>France</th>\n",
       "      <td>FRA</td>\n",
       "      <td>16</td>\n",
       "      <td>26</td>\n",
       "      <td>22</td>\n",
       "      <td>64</td>\n",
       "      <td>44460.82</td>\n",
       "      <td>2023</td>\n",
       "      <td>68.2</td>\n",
       "    </tr>\n",
       "  </tbody>\n",
       "</table>\n",
       "</div>"
      ],
      "text/plain": [
       "              country_code  gold  silver  bronze  total       gdp  gdp_year  \\\n",
       "country                                                                       \n",
       "United States          USA    40      44      42    126  81695.19      2023   \n",
       "China                  CHN    40      27      24     91  12614.06      2023   \n",
       "Japan                  JPN    20      12      13     45  33834.39      2023   \n",
       "Australia              AUS    18      19      16     53  64711.77      2023   \n",
       "France                 FRA    16      26      22     64  44460.82      2023   \n",
       "\n",
       "               population  \n",
       "country                    \n",
       "United States       334.9  \n",
       "China              1410.7  \n",
       "Japan               124.5  \n",
       "Australia            26.6  \n",
       "France               68.2  "
      ]
     },
     "execution_count": 10,
     "metadata": {},
     "output_type": "execute_result"
    }
   ],
   "source": [
    "df.head()"
   ]
  },
  {
   "cell_type": "code",
   "execution_count": 12,
   "id": "cb21914d-dd78-486e-b1da-3215022a7d9e",
   "metadata": {},
   "outputs": [
    {
     "data": {
      "text/html": [
       "<div>\n",
       "<style scoped>\n",
       "    .dataframe tbody tr th:only-of-type {\n",
       "        vertical-align: middle;\n",
       "    }\n",
       "\n",
       "    .dataframe tbody tr th {\n",
       "        vertical-align: top;\n",
       "    }\n",
       "\n",
       "    .dataframe thead th {\n",
       "        text-align: right;\n",
       "    }\n",
       "</style>\n",
       "<table border=\"1\" class=\"dataframe\">\n",
       "  <thead>\n",
       "    <tr style=\"text-align: right;\">\n",
       "      <th></th>\n",
       "      <th>gold</th>\n",
       "      <th>silver</th>\n",
       "      <th>bronze</th>\n",
       "      <th>total</th>\n",
       "      <th>gdp</th>\n",
       "      <th>gdp_year</th>\n",
       "      <th>population</th>\n",
       "    </tr>\n",
       "  </thead>\n",
       "  <tbody>\n",
       "    <tr>\n",
       "      <th>count</th>\n",
       "      <td>90.000000</td>\n",
       "      <td>90.000000</td>\n",
       "      <td>90.000000</td>\n",
       "      <td>90.000000</td>\n",
       "      <td>90.000000</td>\n",
       "      <td>90.000000</td>\n",
       "      <td>90.000000</td>\n",
       "    </tr>\n",
       "    <tr>\n",
       "      <th>mean</th>\n",
       "      <td>3.644444</td>\n",
       "      <td>3.633333</td>\n",
       "      <td>4.255556</td>\n",
       "      <td>11.533333</td>\n",
       "      <td>24478.053556</td>\n",
       "      <td>2022.977778</td>\n",
       "      <td>69.027778</td>\n",
       "    </tr>\n",
       "    <tr>\n",
       "      <th>std</th>\n",
       "      <td>7.018933</td>\n",
       "      <td>6.797967</td>\n",
       "      <td>6.586607</td>\n",
       "      <td>19.782071</td>\n",
       "      <td>25547.857382</td>\n",
       "      <td>0.148231</td>\n",
       "      <td>213.286437</td>\n",
       "    </tr>\n",
       "    <tr>\n",
       "      <th>min</th>\n",
       "      <td>0.000000</td>\n",
       "      <td>0.000000</td>\n",
       "      <td>0.000000</td>\n",
       "      <td>1.000000</td>\n",
       "      <td>1014.210000</td>\n",
       "      <td>2022.000000</td>\n",
       "      <td>0.100000</td>\n",
       "    </tr>\n",
       "    <tr>\n",
       "      <th>25%</th>\n",
       "      <td>0.000000</td>\n",
       "      <td>0.000000</td>\n",
       "      <td>1.000000</td>\n",
       "      <td>2.000000</td>\n",
       "      <td>5815.180000</td>\n",
       "      <td>2023.000000</td>\n",
       "      <td>5.325000</td>\n",
       "    </tr>\n",
       "    <tr>\n",
       "      <th>50%</th>\n",
       "      <td>1.000000</td>\n",
       "      <td>1.000000</td>\n",
       "      <td>2.000000</td>\n",
       "      <td>5.000000</td>\n",
       "      <td>13061.185000</td>\n",
       "      <td>2023.000000</td>\n",
       "      <td>12.150000</td>\n",
       "    </tr>\n",
       "    <tr>\n",
       "      <th>75%</th>\n",
       "      <td>3.000000</td>\n",
       "      <td>3.000000</td>\n",
       "      <td>5.000000</td>\n",
       "      <td>9.000000</td>\n",
       "      <td>34484.677500</td>\n",
       "      <td>2023.000000</td>\n",
       "      <td>48.550000</td>\n",
       "    </tr>\n",
       "    <tr>\n",
       "      <th>max</th>\n",
       "      <td>40.000000</td>\n",
       "      <td>44.000000</td>\n",
       "      <td>42.000000</td>\n",
       "      <td>126.000000</td>\n",
       "      <td>103684.880000</td>\n",
       "      <td>2023.000000</td>\n",
       "      <td>1428.600000</td>\n",
       "    </tr>\n",
       "  </tbody>\n",
       "</table>\n",
       "</div>"
      ],
      "text/plain": [
       "            gold     silver     bronze       total            gdp  \\\n",
       "count  90.000000  90.000000  90.000000   90.000000      90.000000   \n",
       "mean    3.644444   3.633333   4.255556   11.533333   24478.053556   \n",
       "std     7.018933   6.797967   6.586607   19.782071   25547.857382   \n",
       "min     0.000000   0.000000   0.000000    1.000000    1014.210000   \n",
       "25%     0.000000   0.000000   1.000000    2.000000    5815.180000   \n",
       "50%     1.000000   1.000000   2.000000    5.000000   13061.185000   \n",
       "75%     3.000000   3.000000   5.000000    9.000000   34484.677500   \n",
       "max    40.000000  44.000000  42.000000  126.000000  103684.880000   \n",
       "\n",
       "          gdp_year   population  \n",
       "count    90.000000    90.000000  \n",
       "mean   2022.977778    69.027778  \n",
       "std       0.148231   213.286437  \n",
       "min    2022.000000     0.100000  \n",
       "25%    2023.000000     5.325000  \n",
       "50%    2023.000000    12.150000  \n",
       "75%    2023.000000    48.550000  \n",
       "max    2023.000000  1428.600000  "
      ]
     },
     "execution_count": 12,
     "metadata": {},
     "output_type": "execute_result"
    }
   ],
   "source": [
    "df.describe()"
   ]
  },
  {
   "cell_type": "markdown",
   "id": "a851e8d0-1ac1-4629-9359-d85a49ddf0b9",
   "metadata": {},
   "source": [
    "Plotting a histogram"
   ]
  },
  {
   "cell_type": "code",
   "execution_count": 22,
   "id": "115b2e35-2165-456a-815c-a48fd4b61f91",
   "metadata": {
    "scrolled": true
   },
   "outputs": [
    {
     "data": {
      "image/png": "[encoded data removed]",
      "text/plain": [
       "<Figure size 500x300 with 1 Axes>"
      ]
     },
     "metadata": {},
     "output_type": "display_data"
    }
   ],
   "source": [
    "fig, axs = plt.subplots( figsize =(5, 3) )\n",
    "\n",
    "plt.hist(df['total'], bins=20, color='blue', edgecolor = 'black')\n",
    "plt.xlabel('Total medals')\n",
    "plt.ylabel('Number of Countries')\n",
    "plt.title('Distribution of Total Medals')\n",
    "plt.savefig('Histogram.png', dpi = 200)\n",
    "plt.show()\n"
   ]
  },
  {
   "cell_type": "code",
   "execution_count": 24,
   "id": "b2825af7-d6ea-4119-ada0-f977ed33cbba",
   "metadata": {
    "scrolled": true
   },
   "outputs": [
    {
     "data": {
      "image/png": "[encoded data removed]",
      "text/plain": [
       "<Figure size 500x300 with 1 Axes>"
      ]
     },
     "metadata": {},
     "output_type": "display_data"
    }
   ],
   "source": [
    "plt.figure(figsize =(5, 3))\n",
    "df = pd.read_csv('olympics-economics.csv',index_col='country')\n",
    "df.head()\n",
    "plt.scatter(df['gdp'], df['total'], color='black', alpha=1,)\n",
    "plt.xlabel('GDP (in billions)')\n",
    "plt.ylabel('Total Medals')\n",
    "plt.title('Total Medals vs. GDP')\n",
    "plt.savefig('scatter', dpi = 200)\n",
    "plt.show()"
   ]
  },
  {
   "cell_type": "code",
   "execution_count": 26,
   "id": "19fee3ef-1e9c-4eea-83cb-f7ca1a9fc4f1",
   "metadata": {},
   "outputs": [
    {
     "data": {
      "image/png": "[encoded data removed]",
      "text/plain": [
       "<Figure size 500x300 with 1 Axes>"
      ]
     },
     "metadata": {},
     "output_type": "display_data"
    }
   ],
   "source": [
    "plt.figure(figsize =(5, 3))\n",
    "plt.boxplot(df ['gdp'])\n",
    "x=[1]\n",
    "label=['GDP']\n",
    "plt.xticks(x, label)\n",
    "plt.xlabel('GDP (in billions)')\n",
    "plt.title('GDP Distribution')\n",
    "plt.savefig('Boxplot.png', dpi = 200)\n",
    "plt.show()"
   ]
  },
  {
   "cell_type": "code",
   "execution_count": null,
   "id": "3ab434ed-332f-4c71-8d5c-2e6ecf649a0b",
   "metadata": {},
   "outputs": [],
   "source": []
  }
 ],
 "metadata": {
  "kernelspec": {
   "display_name": "Python 3 (ipykernel)",
   "language": "python",
   "name": "python3"
  },
  "language_info": {
   "codemirror_mode": {
    "name": "ipython",
    "version": 3
   },
   "file_extension": ".py",
   "mimetype": "text/x-python",
   "name": "python",
   "nbconvert_exporter": "python",
   "pygments_lexer": "ipython3",
   "version": "3.12.4"
  }
 },
 "nbformat": 4,
 "nbformat_minor": 5
}
